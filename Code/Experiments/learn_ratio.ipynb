{
 "cells": [
  {
   "cell_type": "markdown",
   "metadata": {},
   "source": [
    "# Tests with different learning ratio"
   ]
  },
  {
   "cell_type": "code",
   "execution_count": 1,
   "metadata": {},
   "outputs": [
    {
     "data": {
      "text/plain": [
       "'e:\\\\Năm 4\\\\Tốt nghiệp\\\\Code\\\\Final_code\\\\Thesis2023-TrongCuong\\\\Code'"
      ]
     },
     "execution_count": 1,
     "metadata": {},
     "output_type": "execute_result"
    }
   ],
   "source": [
    "import os\n",
    "os.chdir('..')\n",
    "os.getcwd()"
   ]
  },
  {
   "cell_type": "code",
   "execution_count": 3,
   "metadata": {},
   "outputs": [],
   "source": [
    "from Bandits import *\n",
    "from Evaluator import evaluate\n",
    "from matplotlib import pyplot as plt\n",
    "import pandas as pd"
   ]
  },
  {
   "cell_type": "code",
   "execution_count": null,
   "metadata": {},
   "outputs": [],
   "source": [
    "import Dataset\n",
    "files = (\"dataset/R6/ydata-fp-td-clicks-v1_0.20090502\",\n",
    "        \"dataset/R6/ydata-fp-td-clicks-v1_0.20090503\")\n",
    "Dataset.get_yahoo_events(files)"
   ]
  },
  {
   "cell_type": "code",
   "execution_count": null,
   "metadata": {},
   "outputs": [],
   "source": [
    "_, deploy = evaluate(Egreedy(1))\n",
    "rnd_ctr = deploy[-1]"
   ]
  },
  {
   "cell_type": "code",
   "execution_count": null,
   "metadata": {},
   "outputs": [],
   "source": [
    "ratio = [0.85,0.9,0.95,0.98]\n",
    "results = [['Ratio','Bucket','Algorithm','CTR Lift']]\n",
    "\n",
    "algorithms = [Egreedy(0.1),Ucb1(0.1),LinUCB(0.3,context=\"both\"), LinUCB(0.3,context=\"user\") ]\n",
    "\n",
    "for test in algorithms:\n",
    "    for r in ratio:\n",
    "        learn ,deploy = evaluate(test,size=100,learn_ratio=r)\n",
    "        results.append([r,'learn',test.algorithm, learn[-1]/rnd_ctr])\n",
    "        results.append([r,'deploy',test.algorithm, deploy[-1]/rnd_ctr])\n",
    "        \n",
    "        plt.plot(deploy[100:5000], label=\"learn ratio={}\".format(r))\n",
    "        \n",
    "    plt.title(test.algorithm)\n",
    "    plt.xlabel(\"T\")\n",
    "    plt.ylabel(\"CTR\")\n",
    "    plt.legend(loc='center left', bbox_to_anchor=(1, 0.5))\n",
    "    plt.show()"
   ]
  }
 ],
 "metadata": {
  "kernelspec": {
   "display_name": "Python 3.10.11 64-bit (microsoft store)",
   "language": "python",
   "name": "python3"
  },
  "language_info": {
   "codemirror_mode": {
    "name": "ipython",
    "version": 3
   },
   "file_extension": ".py",
   "mimetype": "text/x-python",
   "name": "python",
   "nbconvert_exporter": "python",
   "pygments_lexer": "ipython3",
   "version": "3.10.11"
  },
  "orig_nbformat": 4,
  "vscode": {
   "interpreter": {
    "hash": "37f6c65daa5a1d9112f4d83e3810b8962631338fe401101cd5ca6f34e7733152"
   }
  }
 },
 "nbformat": 4,
 "nbformat_minor": 2
}
